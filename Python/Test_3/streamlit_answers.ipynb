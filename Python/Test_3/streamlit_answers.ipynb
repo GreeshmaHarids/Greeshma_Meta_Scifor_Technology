{
 "cells": [
  {
   "cell_type": "markdown",
   "metadata": {},
   "source": [
    "1.Explain how Streamlit’s st.cache works and why it is useful. When should you avoid using it?\n",
    "\n",
    "    It stores the results of a function to speed up app by not recalculating the same data each time.\n",
    "\n",
    "    Don't use it for data that changes often as the cached data might become outdated."
   ]
  },
  {
   "cell_type": "markdown",
   "metadata": {},
   "source": [
    "2.Write a simple Streamlit app that takes a user’s name as input and displays a personalized greeting message."
   ]
  },
  {
   "cell_type": "code",
   "execution_count": null,
   "metadata": {
    "vscode": {
     "languageId": "plaintext"
    }
   },
   "outputs": [],
   "source": [
    "import streamlit as st\n",
    "\n",
    "\n",
    "\n",
    "if st.text_input(\"Enter your Name:\",key=\"name\"):\n",
    "    st.write(f\"Hi....\",st.session_state.name)"
   ]
  },
  {
   "cell_type": "markdown",
   "metadata": {},
   "source": [
    "3.Describe the st.sidebar component in Streamlit. How does it improve user experience in Streamlit applications?\n",
    "\n",
    "    st.sidebar is tool used for creating sidebar, an easy to use and efficient tool.\n",
    "    It improves user experience by making easier to navigate and it can be used to add interactive widgets like sliders, buttons, text inputs, etc. in the sidebar."
   ]
  },
  {
   "cell_type": "markdown",
   "metadata": {},
   "source": [
    "4.Create a Streamlit app that displays a line chart of random data. Allow the user to select the number of data points they want in the chart using a slider.\n"
   ]
  },
  {
   "cell_type": "code",
   "execution_count": null,
   "metadata": {
    "vscode": {
     "languageId": "plaintext"
    }
   },
   "outputs": [],
   "source": [
    "import streamlit as st\n",
    "import numpy as np\n",
    "import pandas as pd\n",
    "\n",
    "data_points = st.slider(\"Select number of data points\", 10, 100)\n",
    "st.divider()\n",
    "data = pd.DataFrame(np.random.randn(data_points, 1), columns=[\"Value\"])\n",
    "st.line_chart(data)\n"
   ]
  },
  {
   "cell_type": "markdown",
   "metadata": {},
   "source": [
    "5.How does Streamlit handle real-time data updates with st.button or st.checkbox? Explain a scenario where this can be useful.\n",
    "\n",
    "    Streamlit handles real-time data updates using components like st.button and st.checkbox by triggering a rerun of the app whenever they are interacted with.\n",
    "\n",
    "    For example, if I have created a stock market dashboard app that includes certain filters and two pages to switch between, I can use a checkbox to decide whether to display the filters and a button to switch between the pages. Every time I use these tools, Streamlit will rerun the app."
   ]
  },
  {
   "cell_type": "code",
   "execution_count": null,
   "metadata": {
    "vscode": {
     "languageId": "plaintext"
    }
   },
   "outputs": [],
   "source": [
    "import streamlit as st\n",
    "\n",
    "# Checkbox for selecting filters\n",
    "filter_selected = st.checkbox(\"Select Filters\")\n",
    "if filter_selected:\n",
    "    st.write(\"Selected filters\")\n",
    "else:\n",
    "    st.write(\"No filters selected\")\n",
    "\n",
    "# Function to display the home page\n",
    "def home():\n",
    "    st.write(\"This is the home page\")\n",
    "\n",
    "# Function to display the second page\n",
    "def second():\n",
    "    st.write(\"This is the second page\")\n",
    "\n",
    "# Buttons to navigate between pages\n",
    "if st.button(\"Home\"):\n",
    "    home()\n",
    "if st.button(\"Second Page\"):\n",
    "    second()"
   ]
  }
 ],
 "metadata": {
  "language_info": {
   "name": "python"
  }
 },
 "nbformat": 4,
 "nbformat_minor": 2
}
