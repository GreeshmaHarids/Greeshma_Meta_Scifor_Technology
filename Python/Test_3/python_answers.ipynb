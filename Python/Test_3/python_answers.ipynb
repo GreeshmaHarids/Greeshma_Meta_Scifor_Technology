{
  "nbformat": 4,
  "nbformat_minor": 0,
  "metadata": {
    "colab": {
      "provenance": [],
      "authorship_tag": "ABX9TyOQzA1zFQdVMMsaREMxzX6V",
      "include_colab_link": true
    },
    "kernelspec": {
      "name": "python3",
      "display_name": "Python 3"
    },
    "language_info": {
      "name": "python"
    }
  },
  "cells": [
    {
      "cell_type": "markdown",
      "metadata": {
        "id": "view-in-github",
        "colab_type": "text"
      },
      "source": [
        "<a href=\"https://colab.research.google.com/github/GreeshmaHarids/Greeshma_Meta_Scifor_Technology/blob/main/Python/Test_3/python_answers.ipynb\" target=\"_parent\"><img src=\"https://colab.research.google.com/assets/colab-badge.svg\" alt=\"Open In Colab\"/></a>"
      ]
    },
    {
      "cell_type": "markdown",
      "source": [
        "1.Explain the difference between lists and tuples in Python. Why might you choose one over the other?\n"
      ],
      "metadata": {
        "id": "inu8VJ34g533"
      }
    },
    {
      "cell_type": "markdown",
      "source": [
        "The difference between list and tuples is that lists are mutable and tuples are immutable.\n",
        " We can use lists when need to modify data. And use tuples for fixed data that shouldn’t be altered"
      ],
      "metadata": {
        "id": "O9wm1wjKhFDS"
      }
    },
    {
      "cell_type": "code",
      "execution_count": 3,
      "metadata": {
        "colab": {
          "base_uri": "https://localhost:8080/"
        },
        "id": "ILoqQ24ug1DN",
        "outputId": "e4570162-dca5-4d64-f388-9ab8199019c0"
      },
      "outputs": [
        {
          "output_type": "stream",
          "name": "stdout",
          "text": [
            "Changed first element to 3\n",
            " lst= [3, 2, 3, 4]\n",
            "Can't Change first element to 3\n",
            " tup= (1, 2, 3, 4)\n"
          ]
        }
      ],
      "source": [
        "#eg\n",
        "lst=[1,2,3,4]\n",
        "lst[0]=3\n",
        "print(\"Changed first element to 3\\n lst=\",lst)\n",
        "tup=(1,2,3,4)\n",
        "try:\n",
        "  tup[0]=3\n",
        "except:\n",
        "  print(\"Can't Change first element to 3\\n tup=\",tup)"
      ]
    },
    {
      "cell_type": "markdown",
      "source": [
        "2.Write a function that takes a list of integers and returns a new list with only the even numbers.\n"
      ],
      "metadata": {
        "id": "dTeybFiRidID"
      }
    },
    {
      "cell_type": "code",
      "source": [
        "#answer\n",
        "\n",
        "def find_even(lst):\n",
        "  even_lst=[i for i in lst if i%2==0]\n",
        "  return even_lst\n",
        "\n",
        "find_even([1,2,3,4,7,8,6,4])"
      ],
      "metadata": {
        "colab": {
          "base_uri": "https://localhost:8080/"
        },
        "id": "TzN1i2a-ilh3",
        "outputId": "e8f3357f-ada3-4b5a-d712-308e2d9d1e6c"
      },
      "execution_count": 5,
      "outputs": [
        {
          "output_type": "execute_result",
          "data": {
            "text/plain": [
              "[2, 4, 8, 6, 4]"
            ]
          },
          "metadata": {},
          "execution_count": 5
        }
      ]
    },
    {
      "cell_type": "markdown",
      "source": [
        "3.Describe how Python’s garbage collection works. What are the main methods it uses to manage memory?\n",
        "\n",
        "  :Python’s garbage collection keeps memory clean by deleting objects that are no longer needed.\n",
        "  Methods used: reference counting, cyclic garbage collection\n"
      ],
      "metadata": {
        "id": "ds0h3_PkjIEX"
      }
    },
    {
      "cell_type": "markdown",
      "source": [
        "4.Given a dictionary where keys are student names and values are lists of their scores, write a function that returns the average score for each student.\n"
      ],
      "metadata": {
        "id": "XX5SNvJYj2MO"
      }
    },
    {
      "cell_type": "code",
      "source": [
        "#answer\n",
        "\n",
        "def avg_score(student_scores):\n",
        "  return {student: sum(score) / len(score) for (student, score) in student_scores.items()}\n",
        "\n",
        "avg_score({\"Maria\":[24,56,34,12],\"Alina\":[34,67,12,45],\"Ardra\":[90,56,34,23]})"
      ],
      "metadata": {
        "colab": {
          "base_uri": "https://localhost:8080/"
        },
        "id": "BnxgpbIpkMb7",
        "outputId": "5fe271ed-fe72-473b-f703-c537d3023a3b"
      },
      "execution_count": 6,
      "outputs": [
        {
          "output_type": "execute_result",
          "data": {
            "text/plain": [
              "{'Maria': 31.5, 'Alina': 39.5, 'Ardra': 50.75}"
            ]
          },
          "metadata": {},
          "execution_count": 6
        }
      ]
    },
    {
      "cell_type": "markdown",
      "source": [
        "5.What are *args and **kwargs in Python functions, and how are they used?\n",
        "\n",
        "args stands for \"arguments\" and allows a function to accept any number of positional arguments. These arguments are passed in a tuple format.\n",
        "\n",
        "kwargs stands for \"keyword arguments\" and allows a function to accept any number of keyword arguments (arguments passed as key-value pairs). These arguments are stored in a dictionary."
      ],
      "metadata": {
        "id": "R_7GfYDok5mc"
      }
    },
    {
      "cell_type": "code",
      "source": [
        "#eg\n",
        "#*args\n",
        "def add_numbers(*args):\n",
        "    return sum(args)\n",
        "print(add_numbers(3,4,5))\n",
        "\n",
        "#**kwargs\n",
        "def values(**kwargs):\n",
        "  return kwargs\n",
        "\n",
        "print(values(state=\"Kerala\",age=23))\n",
        "\n",
        "\n",
        "\n"
      ],
      "metadata": {
        "colab": {
          "base_uri": "https://localhost:8080/"
        },
        "id": "eEthwfNul_mm",
        "outputId": "ae3e5b2a-d5e9-42dd-e975-d75a69c27f69"
      },
      "execution_count": 8,
      "outputs": [
        {
          "output_type": "stream",
          "name": "stdout",
          "text": [
            "12\n",
            "{'state': 'Kerala', 'age': 23}\n"
          ]
        }
      ]
    }
  ]
}