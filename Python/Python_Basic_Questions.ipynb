{
  "nbformat": 4,
  "nbformat_minor": 0,
  "metadata": {
    "colab": {
      "provenance": [],
      "authorship_tag": "ABX9TyOaa3CkhzwvnagiirRSohB4",
      "include_colab_link": true
    },
    "kernelspec": {
      "name": "python3",
      "display_name": "Python 3"
    },
    "language_info": {
      "name": "python"
    }
  },
  "cells": [
    {
      "cell_type": "markdown",
      "metadata": {
        "id": "view-in-github",
        "colab_type": "text"
      },
      "source": [
        "<a href=\"https://colab.research.google.com/github/GreeshmaHarids/Greeshma_Meta_Scifor_Technology/blob/main/Python_Basic_Questions.ipynb\" target=\"_parent\"><img src=\"https://colab.research.google.com/assets/colab-badge.svg\" alt=\"Open In Colab\"/></a>"
      ]
    },
    {
      "cell_type": "markdown",
      "source": [
        "**Python Basics Questions**\n",
        "\n",
        "1. Find sum of list elements\n",
        "2. Largest element in a list\n",
        "3. Remove Duplicates in a list\n",
        "4. Check if all elements in a list are unique\n",
        "5. Program to reverse list\n",
        "6. Count no of odd n even numbers in a list\n",
        "7. Check if a list is subset of another list\n",
        "8. Max diff btw two consecutive elements in a list\n",
        "9. Merge Multiple dictionaries\n",
        "10. Find words frequency in a sentence\n",
        "\n"
      ],
      "metadata": {
        "id": "4s8GYBY0IZAs"
      }
    },
    {
      "cell_type": "code",
      "execution_count": 2,
      "metadata": {
        "colab": {
          "base_uri": "https://localhost:8080/"
        },
        "id": "s5rEQba7ISYJ",
        "outputId": "ff172bd7-39db-4585-dc8b-e3d75a43f9c3"
      },
      "outputs": [
        {
          "output_type": "stream",
          "name": "stdout",
          "text": [
            "36\n"
          ]
        }
      ],
      "source": [
        "#1\n",
        "l=[1,2,3,4,5,6,7,8]\n",
        "sum=0\n",
        "for i in l:\n",
        "  sum+=i\n",
        "print(sum)"
      ]
    },
    {
      "cell_type": "code",
      "source": [
        "#2\n",
        "l=[1,2,3,4,5,6,7,8]\n",
        "max=l[0]\n",
        "for i in l:\n",
        "  if i>max:\n",
        "    max=i\n",
        "print(max)"
      ],
      "metadata": {
        "colab": {
          "base_uri": "https://localhost:8080/"
        },
        "id": "f1x3jTcCJZgP",
        "outputId": "afbe8818-703c-4646-fa74-23d3a21a5e72"
      },
      "execution_count": 3,
      "outputs": [
        {
          "output_type": "stream",
          "name": "stdout",
          "text": [
            "8\n"
          ]
        }
      ]
    },
    {
      "cell_type": "code",
      "source": [
        "#3\n",
        "l=[1,2,3,4,5,6,7,8,1,2,3]\n",
        "l1=[]\n",
        "for i in l:\n",
        "  if i not in l1:\n",
        "    l1.append(i)\n",
        "print(l1)"
      ],
      "metadata": {
        "colab": {
          "base_uri": "https://localhost:8080/"
        },
        "id": "WG2pGjyrJjI3",
        "outputId": "f6c71f78-5711-4973-f527-eddaa1b66c0c"
      },
      "execution_count": 4,
      "outputs": [
        {
          "output_type": "stream",
          "name": "stdout",
          "text": [
            "[1, 2, 3, 4, 5, 6, 7, 8]\n"
          ]
        }
      ]
    },
    {
      "cell_type": "code",
      "source": [
        "#4\n",
        "l=[1,\"hello\",\"a\",4,5,8,2345,\"A\"]\n",
        "if len(l)==len(set(l)):\n",
        "  print(\"All elements are unique\")\n",
        "else:\n",
        "  print(\"Not unique\")"
      ],
      "metadata": {
        "colab": {
          "base_uri": "https://localhost:8080/"
        },
        "id": "-pd1mqWbJpa6",
        "outputId": "5bf10800-b1fd-4121-fa9b-257962792fb3"
      },
      "execution_count": 8,
      "outputs": [
        {
          "output_type": "stream",
          "name": "stdout",
          "text": [
            "All elements are unique\n"
          ]
        }
      ]
    },
    {
      "cell_type": "code",
      "source": [
        "#5\n",
        "l=[1,2,3,4,5,6,7,8]\n",
        "l1=[]\n",
        "for i in l:\n",
        "  l1.insert(0,i)\n",
        "print(l1)\n",
        "\n",
        "#method 2\n",
        "l=[1,2,3,4,5,6,7,8]\n",
        "l2=l[::-1]\n",
        "print(l2)"
      ],
      "metadata": {
        "colab": {
          "base_uri": "https://localhost:8080/"
        },
        "id": "HI0IO6RHK0ul",
        "outputId": "09e0118a-04bf-4de1-c988-a37004d7e044"
      },
      "execution_count": 24,
      "outputs": [
        {
          "output_type": "stream",
          "name": "stdout",
          "text": [
            "[8, 7, 6, 5, 4, 3, 2, 1]\n",
            "[8, 7, 6, 5, 4, 3, 2, 1]\n"
          ]
        }
      ]
    },
    {
      "cell_type": "code",
      "source": [
        "#6\n",
        "l=[3,4,5,2,1,6,7,8,9,2]\n",
        "even=0\n",
        "odd=0\n",
        "for i in l:\n",
        "  if i%2==0:\n",
        "    even+=1\n",
        "  else:\n",
        "    odd+=1\n",
        "print(\"Even:\",even)\n",
        "print(\"Odd:\",odd)"
      ],
      "metadata": {
        "colab": {
          "base_uri": "https://localhost:8080/"
        },
        "id": "1tiw1DxaK7CG",
        "outputId": "d9e96344-ca47-4d15-e6e2-b0a10948ad59"
      },
      "execution_count": 10,
      "outputs": [
        {
          "output_type": "stream",
          "name": "stdout",
          "text": [
            "Even: 5\n",
            "Odd: 5\n"
          ]
        }
      ]
    },
    {
      "cell_type": "code",
      "source": [
        "#7\n",
        "l1=[4,3,8,1,0,3]\n",
        "l2=[\"a\",4,8,3,3,1,0]\n",
        "for i in l1:\n",
        "  if i not in l2:\n",
        "    print(\"Not a subset\")\n",
        "    break\n",
        "else:\n",
        "    print(\"l1 is a Subset of l2\")"
      ],
      "metadata": {
        "colab": {
          "base_uri": "https://localhost:8080/"
        },
        "id": "xkrHAfxALTfj",
        "outputId": "43da9e09-7ba5-4717-9c10-38c755caafbb"
      },
      "execution_count": 16,
      "outputs": [
        {
          "output_type": "stream",
          "name": "stdout",
          "text": [
            "l1 is a Subset of l2\n"
          ]
        }
      ]
    },
    {
      "cell_type": "code",
      "source": [
        "#8\n",
        "#maximum difference between two consecutie elements in a list\n",
        "l1=[3,8,1,9,4]\n",
        "max=l1[1]-l1[0]\n",
        "for i in range(len(l1)-1):\n",
        "  if l1[i+1]-l1[i]>max:\n",
        "    max=l1[i+1]-l1[i]\n",
        "    i+=1\n",
        "print(max)"
      ],
      "metadata": {
        "colab": {
          "base_uri": "https://localhost:8080/"
        },
        "id": "0Loit101MPGK",
        "outputId": "fdebe7f4-378c-40df-f78e-cfd77e1ab365"
      },
      "execution_count": 17,
      "outputs": [
        {
          "output_type": "stream",
          "name": "stdout",
          "text": [
            "8\n"
          ]
        }
      ]
    },
    {
      "cell_type": "code",
      "source": [
        "#9\n",
        "\n",
        "d1={1:\"a\",2:\"b\"}\n",
        "d2={3:\"c\",4:\"d\"}\n",
        "d1.update(d2)\n",
        "print(d1)\n",
        "\n",
        "#method2\n",
        "d1={1:\"a\",2:\"b\"}\n",
        "d2={3:\"c\",4:\"d\"}\n",
        "d3={**d1,**d2}\n",
        "print(d3)"
      ],
      "metadata": {
        "colab": {
          "base_uri": "https://localhost:8080/"
        },
        "id": "34BpntyxM6Fa",
        "outputId": "27a285ec-c8a1-47fd-890f-878e83ef3945"
      },
      "execution_count": 21,
      "outputs": [
        {
          "output_type": "stream",
          "name": "stdout",
          "text": [
            "{1: 'a', 2: 'b', 3: 'c', 4: 'd'}\n",
            "{1: 'a', 2: 'b', 3: 'c', 4: 'd'}\n"
          ]
        }
      ]
    },
    {
      "cell_type": "code",
      "source": [
        "#10\n",
        "#find frequency in a sentence\n",
        "s=\"Cat dog cat Dog dog cat cat\"\n",
        "l=s.split()\n",
        "d={}\n",
        "for i in l:\n",
        "  if i in d:\n",
        "    d[i]+=1\n",
        "  else:\n",
        "    d[i]=1\n",
        "print(d)"
      ],
      "metadata": {
        "colab": {
          "base_uri": "https://localhost:8080/"
        },
        "id": "puSwjRL0N9XJ",
        "outputId": "bbc5f54d-602f-466b-9189-bdbc272626bd"
      },
      "execution_count": 23,
      "outputs": [
        {
          "output_type": "stream",
          "name": "stdout",
          "text": [
            "{'Cat': 1, 'dog': 2, 'cat': 3, 'Dog': 1}\n"
          ]
        }
      ]
    }
  ]
}
