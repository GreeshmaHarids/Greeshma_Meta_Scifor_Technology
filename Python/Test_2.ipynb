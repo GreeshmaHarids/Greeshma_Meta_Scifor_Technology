{
 "cells": [
  {
   "cell_type": "markdown",
   "metadata": {},
   "source": [
    "1. What are decorators in python? Provide a code of same\n",
    "   : Decorators are functions that modify the behavior of another function or method."
   ]
  },
  {
   "cell_type": "code",
   "execution_count": 1,
   "metadata": {},
   "outputs": [
    {
     "name": "stdout",
     "output_type": "stream",
     "text": [
      "This is first line\n",
      "This is middle line\n",
      "This is last line\n"
     ]
    }
   ],
   "source": [
    "#Eg\n",
    "def mydecorator(func):\n",
    "    def wrapper():\n",
    "        print(\"This is first line\")\n",
    "        func()\n",
    "        print(\"This is last line\")\n",
    "\n",
    "    return wrapper\n",
    "\n",
    "@mydecorator\n",
    "def text_input():\n",
    "    print(\"This is middle line\")\n",
    "\n",
    "text_input()\n"
   ]
  },
  {
   "cell_type": "markdown",
   "metadata": {},
   "source": [
    "2. What do you understand by method overriding and method overloading? Give the complete implementation \n",
    "    Overriding: Redefining a method in a subclass that exists in the parent class.The subclass method will override the superclass method when called on an instance of the subclass.\n",
    "    \n",
    "    Overloading: Defining methods with the same name but different parameters."
   ]
  },
  {
   "cell_type": "code",
   "execution_count": 2,
   "metadata": {},
   "outputs": [
    {
     "name": "stdout",
     "output_type": "stream",
     "text": [
      "Name of Author\n"
     ]
    }
   ],
   "source": [
    "#eg for method overriding\n",
    "class Book:\n",
    "    def name(self):\n",
    "        print(\"Name of book\")\n",
    "    \n",
    "class Book_Author(Book):\n",
    "    def name(self):\n",
    "        print(\"Name of Author\")\n",
    "\n",
    "#instance\n",
    "obj=Book_Author()   \n",
    "obj.name()    #out put \"Name of Author\" as it overrides method in parent class Book"
   ]
  },
  {
   "cell_type": "code",
   "execution_count": 9,
   "metadata": {},
   "outputs": [
    {
     "name": "stdout",
     "output_type": "stream",
     "text": [
      "4\n",
      "3\n",
      "6\n"
     ]
    }
   ],
   "source": [
    "#Eg for method overloading\n",
    "class Operations:\n",
    "    def add(self, a, b=0, c=0):\n",
    "        return a + b + c\n",
    "\n",
    "op = Operations()\n",
    "print(op.add(4))          #output 4\n",
    "print(op.add(1, 2))       # Output: 3\n",
    "print(op.add(1, 2, 3))     #Output:6"
   ]
  },
  {
   "cell_type": "markdown",
   "metadata": {},
   "source": [
    "3. Code for hybrid inheritance"
   ]
  },
  {
   "cell_type": "code",
   "execution_count": 13,
   "metadata": {},
   "outputs": [
    {
     "name": "stdout",
     "output_type": "stream",
     "text": [
      "Dogs and birds make sound\n"
     ]
    }
   ],
   "source": [
    "#eg\n",
    "class Animals:\n",
    "    def sound(self):\n",
    "        print(\"Animal makes sound\")\n",
    "class Dog(Animals):                     #single level inheritance\n",
    "    def sound(self):\n",
    "        print(\"Dog makes sound\")\n",
    "\n",
    "class Bird(Animals):\n",
    "    def sound(self):\n",
    "        print(\"birds make sound\")\n",
    "\n",
    "class Hybrid(Dog,Bird):               #hybrid inetritance :combination of both multiple and multi-level inheritance\n",
    "    def sound(self):\n",
    "        print(\"Dogs and birds make sound\")\n",
    "\n",
    "\n",
    "\n",
    "#creating instance\n",
    "obj=Hybrid()\n",
    "obj.sound()\n"
   ]
  },
  {
   "cell_type": "markdown",
   "metadata": {},
   "source": [
    "5. Explain any 3 widgets in Streamlit\n",
    " \n",
    "    st.button(): Creates a button.\n",
    "    st.slider(): Adds a slider for selecting values.\n",
    "    st.text_input(): Takes user text input."
   ]
  },
  {
   "cell_type": "code",
   "execution_count": null,
   "metadata": {},
   "outputs": [],
   "source": [
    "#eg\n",
    "\n",
    "import streamlit as st\n",
    "\n",
    "st.button(\"Click Here\")\n",
    "st.slider(\"Number Range\",0,100)\n",
    "st.text_input(\"Enter Your Name:\")"
   ]
  },
  {
   "cell_type": "markdown",
   "metadata": {},
   "source": [
    "6. Explain session in Streamlit \n",
    "In Streamlit, sessions keep track of variables and app states (e.g., counters, form inputs) so that values don’t reset with every interaction using st.session_state, allowing data to persist across app reruns."
   ]
  },
  {
   "cell_type": "code",
   "execution_count": null,
   "metadata": {},
   "outputs": [],
   "source": [
    "import streamlit as st\n",
    "\n",
    "if 'count' not in st.session_state:\n",
    "    st.session_state.count = 0\n",
    "\n",
    "if st.button('Increment'):\n",
    "    st.session_state.count += 1\n",
    "\n",
    "st.write(\"Count:\", st.session_state.count)   \n",
    "\"\"\"\n",
    "output\n",
    "---->count:1\n",
    "---->count:2\n",
    "---->count:3\n",
    "\"\"\"\n"
   ]
  },
  {
   "cell_type": "markdown",
   "metadata": {},
   "source": [
    "7. How will you run any file in Streamlit \n",
    "   : Using *streamlit run filename.py* in the terminal.(where *filename.py* is the name of the file with code)"
   ]
  },
  {
   "cell_type": "markdown",
   "metadata": {},
   "source": [
    "8. Plot graph such as bar chart, pie chart"
   ]
  },
  {
   "cell_type": "code",
   "execution_count": null,
   "metadata": {},
   "outputs": [],
   "source": [
    "#eg for bar chart\n",
    "import streamlit as st\n",
    "import matplotlib.pyplot as plt\n",
    "\n",
    "# Sample data\n",
    "data = {'A': 30, 'B': 40, 'C': 50}\n",
    "\n",
    "# Create a bar chart\n",
    "st.header(\"Bar Chart Example\")\n",
    "plt.bar(data.keys(), data.values())\n",
    "st.pyplot(plt)\n"
   ]
  },
  {
   "cell_type": "code",
   "execution_count": null,
   "metadata": {},
   "outputs": [],
   "source": [
    "#eg for pie chart\n",
    "\n",
    "pie_data = {\n",
    "    'Red': 40,\n",
    "    'Blue': 30,\n",
    "    'Green': 20,\n",
    "    'Yellow': 10\n",
    "}\n",
    "st.header(\"Color Distribution Pie Chart\")\n",
    "plt.pie(pie_data.values(), labels=pie_data.keys(), autopct='%1.1f%%', startangle=90)\n",
    "plt.title('Color Distribution')\n",
    "st.pyplot(plt)\n"
   ]
  },
  {
   "cell_type": "markdown",
   "metadata": {},
   "source": [
    "streamlit app link: \n",
    "https://demo-work.streamlit.app/"
   ]
  }
 ],
 "metadata": {
  "kernelspec": {
   "display_name": "base",
   "language": "python",
   "name": "python3"
  },
  "language_info": {
   "codemirror_mode": {
    "name": "ipython",
    "version": 3
   },
   "file_extension": ".py",
   "mimetype": "text/x-python",
   "name": "python",
   "nbconvert_exporter": "python",
   "pygments_lexer": "ipython3",
   "version": "3.12.4"
  }
 },
 "nbformat": 4,
 "nbformat_minor": 2
}
