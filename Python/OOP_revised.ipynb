{
  "nbformat": 4,
  "nbformat_minor": 0,
  "metadata": {
    "colab": {
      "provenance": [],
      "authorship_tag": "ABX9TyM96RVv2jnZwsHIOlhvEaWx",
      "include_colab_link": true
    },
    "kernelspec": {
      "name": "python3",
      "display_name": "Python 3"
    },
    "language_info": {
      "name": "python"
    }
  },
  "cells": [
    {
      "cell_type": "markdown",
      "metadata": {
        "id": "view-in-github",
        "colab_type": "text"
      },
      "source": [
        "<a href=\"https://colab.research.google.com/github/GreeshmaHarids/Greeshma_Meta_Scifor_Technology/blob/main/Python/OOP_revised.ipynb\" target=\"_parent\"><img src=\"https://colab.research.google.com/assets/colab-badge.svg\" alt=\"Open In Colab\"/></a>"
      ]
    },
    {
      "cell_type": "code",
      "execution_count": 1,
      "metadata": {
        "colab": {
          "base_uri": "https://localhost:8080/"
        },
        "id": "z4TeWwGCK0sV",
        "outputId": "05da5e6a-e760-439c-9caf-eceaaa283617"
      },
      "outputs": [
        {
          "output_type": "stream",
          "name": "stdout",
          "text": [
            "102\n",
            "Malgudi Days\n"
          ]
        }
      ],
      "source": [
        "#Encapsulation : Wrapping up or bundling data and methods into a single unit, known as a class.\n",
        "\n",
        "class Book:\n",
        "  def __init__(self,book_name,book_number,author):\n",
        "    self.__book_name=book_name #encalpsulating book_name by making it a private attribute\n",
        "    self.book_number=book_number\n",
        "    self.author=author\n",
        "\n",
        "  def get_book_name(self):\n",
        "    return self.__book_name\n",
        "\n",
        "#creating object\n",
        "\n",
        "book=Book(\"Malgudi Days\",102,\"R. K. Narayan\")\n",
        "print(book.book_number)\n",
        "print(book.get_book_name())\n",
        ""
      ]
    },
    {
      "cell_type": "code",
      "source": [
        "#Polymorphism : many forms ie, same function name is used for different types\n",
        "\n",
        "class Bird:\n",
        "  def fly(self):\n",
        "    print(\"Birds can fly\")\n",
        "class Animal:\n",
        "  def fly(self):\n",
        "    print(\"animals cannot fly\")\n",
        "\n",
        "brd=Bird()\n",
        "brd.fly()\n",
        "anl=Animal()\n",
        "anl.fly()"
      ],
      "metadata": {
        "colab": {
          "base_uri": "https://localhost:8080/"
        },
        "id": "SOFtDiY0OzHF",
        "outputId": "dba4a3f2-943b-4f07-ab78-f338adba5a29"
      },
      "execution_count": 2,
      "outputs": [
        {
          "output_type": "stream",
          "name": "stdout",
          "text": [
            "Birds can fly\n",
            "animals cannot fly\n"
          ]
        }
      ]
    },
    {
      "cell_type": "code",
      "source": [
        "#Single Level Inheritance: Inherites properties from a single parent class\n",
        "\n",
        "class Animal:\n",
        "  def eat(self):\n",
        "    print(\"Animal is eating\")\n",
        "class Dog(Animal):\n",
        "  def bark(self):\n",
        "    print(\"Dog is barking\")\n",
        "\n",
        "dog=Dog()\n",
        "dog.eat()\n",
        "dog.bark()"
      ],
      "metadata": {
        "colab": {
          "base_uri": "https://localhost:8080/"
        },
        "id": "Aipqm_ccUr6s",
        "outputId": "15014169-3639-46d6-8c9e-9d53c58caed7"
      },
      "execution_count": 4,
      "outputs": [
        {
          "output_type": "stream",
          "name": "stdout",
          "text": [
            "Animal is eating\n",
            "Dog is barking\n"
          ]
        }
      ]
    },
    {
      "cell_type": "code",
      "source": [
        "# Multi-level inheritance: Properties of the base class and derived class are further inherited to a new derived class\n",
        "\n",
        "class Food:\n",
        "  def eat(self):\n",
        "    print(\"Eat healthy\")\n",
        "class Veg(Food):      #inherited from Food\n",
        "  def drink(self):\n",
        "    print(\"Drink healthy\")\n",
        "class Fruit(Veg):      #Inherited from both Veg and Food\n",
        "  def taste(self):\n",
        "    print(\"Taste healthy\")\n",
        "\n",
        "fruit=Fruit()\n",
        "fruit.eat()\n",
        "fruit.drink()\n",
        "fruit.taste()"
      ],
      "metadata": {
        "colab": {
          "base_uri": "https://localhost:8080/"
        },
        "id": "d_coeEEIWObs",
        "outputId": "dea7689a-f7a9-465f-f247-1bc099e99170"
      },
      "execution_count": 5,
      "outputs": [
        {
          "output_type": "stream",
          "name": "stdout",
          "text": [
            "Eat healthy\n",
            "Drink healthy\n",
            "Taste healthy\n"
          ]
        }
      ]
    },
    {
      "cell_type": "code",
      "source": [
        "# Multiple-Inheritance: Inherits properties from multiple parent classes\n",
        "\n",
        "class Father:\n",
        "  def f_name(self):\n",
        "    print(\"father:Haridas\")\n",
        "\n",
        "class Mother:\n",
        "  def m_name(self):\n",
        "    print(\"Mother: Mini\")\n",
        "\n",
        "class Child(Father,Mother):\n",
        "  def details(self):\n",
        "    print(f\"Child: Greeshma\")\n",
        "\n",
        "\n",
        "child=Child()\n",
        "child.details()\n",
        "child.f_name()\n",
        "child.m_name()"
      ],
      "metadata": {
        "colab": {
          "base_uri": "https://localhost:8080/"
        },
        "id": "B7cebzOTYZpf",
        "outputId": "68715b60-9f6e-41ae-939a-6b5c2396d297"
      },
      "execution_count": 13,
      "outputs": [
        {
          "output_type": "stream",
          "name": "stdout",
          "text": [
            "Child: Greeshma\n",
            "father:Haridas\n",
            "Mother: Mini\n"
          ]
        }
      ]
    },
    {
      "cell_type": "code",
      "source": [
        "# Method Overriding\n",
        "\n",
        "class Animal:\n",
        "  def eat(self):\n",
        "    print(\"Animal is eating\")\n",
        "class Dog(Animal):\n",
        "  def eat(self):\n",
        "    print(\"Dog is eating\")\n",
        "\n",
        "dog=Dog()\n",
        "dog.eat()"
      ],
      "metadata": {
        "colab": {
          "base_uri": "https://localhost:8080/"
        },
        "id": "dDLgI9OJihHj",
        "outputId": "bfd11139-706e-420e-fffa-057a36a6e3ac"
      },
      "execution_count": 14,
      "outputs": [
        {
          "output_type": "stream",
          "name": "stdout",
          "text": [
            "Dog is eating\n"
          ]
        }
      ]
    },
    {
      "cell_type": "code",
      "source": [
        "# Hierarchical inheritance :more than one derived class are created from a single base\n",
        "\n",
        "class Animal:\n",
        "  def sound(self):\n",
        "    print(\"Animal makes a sound\")\n",
        "class Dog(Animal):\n",
        "  def bark(self):\n",
        "    print(\"Dog barks\")\n",
        "class Cat(Animal):\n",
        "  def meow(self):\n",
        "    print(\"Cat meows\")\n",
        "\n",
        "dog=Dog()\n",
        "dog.sound()\n",
        "dog.bark()\n",
        "cat=Cat()\n",
        "cat.sound()\n",
        "cat.meow()"
      ],
      "metadata": {
        "colab": {
          "base_uri": "https://localhost:8080/"
        },
        "id": "S4R6N1YZkA8o",
        "outputId": "5e85fbc7-aa31-4508-d077-6270d05e6449"
      },
      "execution_count": 15,
      "outputs": [
        {
          "output_type": "stream",
          "name": "stdout",
          "text": [
            "Animal makes a sound\n",
            "Dog barks\n",
            "Animal makes a sound\n",
            "Cat meows\n"
          ]
        }
      ]
    },
    {
      "cell_type": "code",
      "source": [
        "# Hybrid Inheritance: Inheritance consisting of multiple types of inheritance\n",
        "\n",
        "class Animal:\n",
        "  def eat(self):\n",
        "    print(\"Animal is eating\")\n",
        "class Dog(Animal):\n",
        "  def bark(self):\n",
        "    print(\"Dog is barking\")\n",
        "class Puppy(Dog):\n",
        "  def play(self):\n",
        "    print(\"Puppy is playing\")\n",
        "\n",
        "class New(Puppy,Animal):  #here is bth multiple and muti-level inheritance are present\n",
        "  def sleep(self):\n",
        "    print(\"New is sleeping\")\n",
        "\n",
        "new=New()\n",
        "new.eat()\n",
        "new.bark()\n",
        "new.play()\n",
        "new.sleep()"
      ],
      "metadata": {
        "colab": {
          "base_uri": "https://localhost:8080/"
        },
        "id": "i_2RVx-hkc3o",
        "outputId": "a5612621-ac7d-4a67-801b-699514df2214"
      },
      "execution_count": 16,
      "outputs": [
        {
          "output_type": "stream",
          "name": "stdout",
          "text": [
            "Animal is eating\n",
            "Dog is barking\n",
            "Puppy is playing\n",
            "New is sleeping\n"
          ]
        }
      ]
    },
    {
      "cell_type": "code",
      "source": [
        "#Decorator\n",
        "def my_decorator(func):\n",
        "  def wrapper(*args, **kwargs):\n",
        "    print(\"hello!....\")\n",
        "    func(*args, **kwargs)\n",
        "    print(\"Bye......!\")\n",
        "  return wrapper\n",
        "\n",
        "@my_decorator\n",
        "def Name(name):\n",
        "  print(f\"My name is {name}\")\n",
        "\n",
        "Name(\"Greeshma\")\n"
      ],
      "metadata": {
        "colab": {
          "base_uri": "https://localhost:8080/"
        },
        "id": "UYVWb-2FqN9Z",
        "outputId": "82f0f808-515d-4503-86e1-c5649dcfb46f"
      },
      "execution_count": 24,
      "outputs": [
        {
          "output_type": "stream",
          "name": "stdout",
          "text": [
            "hello!....\n",
            "My name is Greeshma\n",
            "Bye......!\n"
          ]
        }
      ]
    },
    {
      "cell_type": "code",
      "source": [],
      "metadata": {
        "id": "FRYNKkWcqTFb"
      },
      "execution_count": null,
      "outputs": []
    }
  ]
}