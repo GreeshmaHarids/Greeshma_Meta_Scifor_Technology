{
  "nbformat": 4,
  "nbformat_minor": 0,
  "metadata": {
    "colab": {
      "provenance": [],
      "authorship_tag": "ABX9TyNxArjqJyt3whwaQoaGSsqm",
      "include_colab_link": true
    },
    "kernelspec": {
      "name": "python3",
      "display_name": "Python 3"
    },
    "language_info": {
      "name": "python"
    }
  },
  "cells": [
    {
      "cell_type": "markdown",
      "metadata": {
        "id": "view-in-github",
        "colab_type": "text"
      },
      "source": [
        "<a href=\"https://colab.research.google.com/github/GreeshmaHarids/Greeshma_Meta_Scifor_Technology/blob/main/Python/TEST_Python.ipynb\" target=\"_parent\"><img src=\"https://colab.research.google.com/assets/colab-badge.svg\" alt=\"Open In Colab\"/></a>"
      ]
    },
    {
      "cell_type": "markdown",
      "source": [
        "1. What are Python data types?\n",
        "\n",
        "The primary data types are\n",
        "Integers: Whole numbers (e.g., 5).\n",
        "\n",
        "Floats: Decimal numbers (e.g., 3.14).\n",
        "\n",
        "Strings: Sequences of characters (e.g., \"hello\").\n",
        "\n",
        "Lists: Ordered, mutable collections (e.g., [1, 2, 3]).\n",
        "\n",
        "Tuples: Ordered, immutable collections (e.g., (1, 2, 3)).\n",
        "\n",
        "Dictionaries: Unordered collections of key-value pairs (e.g., {\"key\": \"value\"}).\n",
        "\n",
        "Sets: Unordered collections of unique elements (e.g., {1, 2, 3})."
      ],
      "metadata": {
        "id": "XASUjG15NIo6"
      }
    },
    {
      "cell_type": "code",
      "source": [
        "print(type(5))\n",
        "print(type(5.0))\n",
        "print(type(\"hello\"))\n",
        "print(type([1, 2, 3]))\n",
        "print(type((1, 2, 3)))\n",
        "print(type({\"key\": \"value\"}))\n",
        "print(type({1, 2, 3}))"
      ],
      "metadata": {
        "colab": {
          "base_uri": "https://localhost:8080/"
        },
        "id": "-OPnLc61Npvf",
        "outputId": "f717ba25-d53a-4d11-d122-55e13bf9877f"
      },
      "execution_count": 5,
      "outputs": [
        {
          "output_type": "stream",
          "name": "stdout",
          "text": [
            "<class 'int'>\n",
            "<class 'float'>\n",
            "<class 'str'>\n",
            "<class 'list'>\n",
            "<class 'tuple'>\n",
            "<class 'dict'>\n",
            "<class 'set'>\n"
          ]
        }
      ]
    },
    {
      "cell_type": "markdown",
      "source": [
        "2. Explain the difference between list, tuple, and set\n",
        "\n",
        "Mutability:\n",
        "Lists are mutable.\n",
        "Tuples are immutable.\n",
        "Sets are mutable.\n",
        "\n",
        "Ordering:\n",
        "Lists and tuples maintain order.\n",
        "Sets do not maintain order.\n",
        "\n",
        "Uniqueness:\n",
        "Lists can have duplicates.\n",
        "Tuples can have duplicates.\n",
        "Sets only contain unique elements.\n"
      ],
      "metadata": {
        "id": "VI3jp6a0Ox1F"
      }
    },
    {
      "cell_type": "code",
      "source": [
        "#eg\n",
        "lst = [1, 2, 2]  # mutable, ordered, duplicates allowed\n",
        "# Tuple\n",
        "tu = (1, 2, 2)  # immutable, ordered, duplicates allowed\n",
        "# Set\n",
        "st = {1, 2, 2}  # mutable, unordered, unique elements only"
      ],
      "metadata": {
        "id": "Vaus_SXEOvrS"
      },
      "execution_count": 7,
      "outputs": []
    },
    {
      "cell_type": "markdown",
      "source": [
        "3.How do you handle exceptions in Python?\n",
        "\n",
        "\n"
      ],
      "metadata": {
        "id": "tghYnUHjQzSw"
      }
    },
    {
      "cell_type": "code",
      "source": [
        "# eg:\n",
        "tu=(1,2,3)\n",
        "try:\n",
        "    # Code that may raise an exception\n",
        "    tu[0]=2\n",
        "except TypeError as e:\n",
        "    # Handle the specific exception\n",
        "    print(\"Error:\", e)\n",
        "else:\n",
        "  print(\"No exception occurred.\")\n",
        "finally:\n",
        "    # Code that always executes\n",
        "    print(\"Execution completed.\")\n"
      ],
      "metadata": {
        "colab": {
          "base_uri": "https://localhost:8080/"
        },
        "id": "F-SWUBhkRwsc",
        "outputId": "132301b4-a0ed-4914-f926-56cae5405536"
      },
      "execution_count": 8,
      "outputs": [
        {
          "output_type": "stream",
          "name": "stdout",
          "text": [
            "Error: 'tuple' object does not support item assignment\n",
            "Execution completed.\n"
          ]
        }
      ]
    },
    {
      "cell_type": "markdown",
      "source": [
        "4.What are Python decorators?\n",
        "Used to modify pre-defined functions"
      ],
      "metadata": {
        "id": "IWCthS0ES0Tf"
      }
    },
    {
      "cell_type": "code",
      "source": [
        "# eg\n",
        "\n",
        "def my_decorator(func):\n",
        "    def wrapper():\n",
        "        print(\"Hello...all\")\n",
        "        func()\n",
        "        print(\"Bye.....\")\n",
        "    return wrapper\n",
        "\n",
        "@my_decorator        #using my_decorator to modify greetings()\n",
        "def greetings():\n",
        "    print(\"Have a good day\")\n",
        "\n",
        "greetings()"
      ],
      "metadata": {
        "colab": {
          "base_uri": "https://localhost:8080/"
        },
        "id": "NkkitqkfSz0f",
        "outputId": "9620b568-f4bf-49dd-8283-7f68239e343f"
      },
      "execution_count": 11,
      "outputs": [
        {
          "output_type": "stream",
          "name": "stdout",
          "text": [
            "Hello...all\n",
            "Have a good day\n",
            "Bye.....\n"
          ]
        }
      ]
    },
    {
      "cell_type": "markdown",
      "source": [
        "5.What is a lambda function?\n",
        "it is an anonymous function defined using lambda keyword."
      ],
      "metadata": {
        "id": "I-bHFMbOTY_o"
      }
    },
    {
      "cell_type": "code",
      "source": [
        "# eg\n",
        "\n",
        "l=lambda x:x**2\n",
        "print(l(5))\n",
        "\n",
        "s=lambda x,y:x-y\n",
        "s(4,7)"
      ],
      "metadata": {
        "colab": {
          "base_uri": "https://localhost:8080/"
        },
        "id": "eXEsOf3ETYm6",
        "outputId": "9a793b79-a21c-490f-d4ac-2b652c2d3344"
      },
      "execution_count": 13,
      "outputs": [
        {
          "output_type": "stream",
          "name": "stdout",
          "text": [
            "25\n"
          ]
        },
        {
          "output_type": "execute_result",
          "data": {
            "text/plain": [
              "-3"
            ]
          },
          "metadata": {},
          "execution_count": 13
        }
      ]
    },
    {
      "cell_type": "markdown",
      "source": [
        "7.How do you work with files in Python?\n",
        "\n",
        " open(): used to open a file\n",
        "\n",
        " read(): to read a file ('r' is used to specify)\n",
        " write(): to write a new file (\"w\" is used to specify)"
      ],
      "metadata": {
        "id": "CVUfGMfgUClR"
      }
    },
    {
      "cell_type": "code",
      "source": [
        "# eg\n",
        "\n",
        "with open(\"file.txt\", \"w\") as file:\n",
        "        file.write(\"Hello Everyone...\")\n",
        "\n",
        "with open(\"file.txt\", \"r\") as file:\n",
        "    content = file.read()\n",
        "    print(content)\n"
      ],
      "metadata": {
        "colab": {
          "base_uri": "https://localhost:8080/"
        },
        "id": "heqNHUnxUCKe",
        "outputId": "84f983e5-af5c-4ade-cfe0-df7d86fa99b7"
      },
      "execution_count": 15,
      "outputs": [
        {
          "output_type": "stream",
          "name": "stdout",
          "text": [
            "Hello Everyone...\n"
          ]
        }
      ]
    },
    {
      "cell_type": "markdown",
      "source": [
        "OOP Implementation:\n",
        "1.What is Object-Oriented Programming (OOP)?\n"
      ],
      "metadata": {
        "id": "QQXvH1JvVLKg"
      }
    },
    {
      "cell_type": "markdown",
      "source": [
        "1.Encapsulation:\n",
        "Wrapping up / bundling of data and function in a single unit/ class.\n",
        "\n",
        "2.Abstraction: Hiding complex implementation details and showing only the necessary features.\n",
        "\n",
        "3.Inheritance: one class inherits properties from another class.\n",
        "\n",
        "4.Polymorphism: It means many forms, that is a function with same name can perform different fuctions."
      ],
      "metadata": {
        "id": "OTXWV1PEVkyY"
      }
    },
    {
      "cell_type": "code",
      "source": [
        "# eg\n",
        "\n",
        "#encapsulation\n",
        "class bird:\n",
        "  def bird_properties(self,name,color):\n",
        "    self.name=name\n",
        "    self.__color=color  #encapsulation done using private attribute\n",
        "  def get_color(self):    #acessing private attribute\n",
        "    print(self.__color)\n",
        "  def bird_name(self):\n",
        "    print(self.name)\n",
        "\n",
        "obj=bird()\n",
        "obj.bird_properties(\"parrot\",\"blue\")\n",
        "obj.get_color()\n",
        "obj.bird_name()\n"
      ],
      "metadata": {
        "colab": {
          "base_uri": "https://localhost:8080/"
        },
        "id": "I4OXSKqTVKxx",
        "outputId": "7f72c708-0d8d-4f87-9c92-464134dbde7c"
      },
      "execution_count": 19,
      "outputs": [
        {
          "output_type": "stream",
          "name": "stdout",
          "text": [
            "blue\n",
            "parrot\n"
          ]
        }
      ]
    },
    {
      "cell_type": "code",
      "source": [
        "#inheritance\n",
        "\n",
        "# single level\n",
        "class"
      ],
      "metadata": {
        "id": "lsFisexnXoI0"
      },
      "execution_count": null,
      "outputs": []
    },
    {
      "cell_type": "markdown",
      "source": [
        "2.What is a class and an object in Python?\n",
        "\n",
        "Class: A blueprint for creating objects.\n",
        "\n",
        "Object: An instance of a class."
      ],
      "metadata": {
        "id": "f4XuFBR-YnZD"
      }
    },
    {
      "cell_type": "code",
      "source": [
        "class Bird:\n",
        "  def name(self,name):\n",
        "    self.name=name\n",
        "  def color(self,color):\n",
        "    self.color=color\n",
        "  def display(self):\n",
        "    print(self.name,self.color)\n",
        "\n",
        "brd=Bird()   #brd is an instance of class Bird\n",
        "brd.name(\"parrot\")\n",
        "brd.color(\"blue\")\n",
        "brd.display()"
      ],
      "metadata": {
        "colab": {
          "base_uri": "https://localhost:8080/"
        },
        "id": "fzlOQ_UyYxha",
        "outputId": "9205c7a7-687e-42dc-ac84-a48de38915fe"
      },
      "execution_count": 20,
      "outputs": [
        {
          "output_type": "stream",
          "name": "stdout",
          "text": [
            "parrot blue\n"
          ]
        }
      ]
    },
    {
      "cell_type": "markdown",
      "source": [
        "3. How do you create a class in Python?"
      ],
      "metadata": {
        "id": "vlLAHCqfZR1G"
      }
    },
    {
      "cell_type": "code",
      "source": [
        "# eg\n",
        "\n",
        "class Bird:\n",
        "  def name(self):\n",
        "    print(\"parrot\")\n",
        "\n",
        "brd=Bird()\n",
        "brd.name()\n",
        ""
      ],
      "metadata": {
        "colab": {
          "base_uri": "https://localhost:8080/"
        },
        "id": "nxXZF4QEZRb2",
        "outputId": "e279c2f8-2357-40df-b42a-9cb8f0323d53"
      },
      "execution_count": 21,
      "outputs": [
        {
          "output_type": "stream",
          "name": "stdout",
          "text": [
            "parrot\n"
          ]
        }
      ]
    },
    {
      "cell_type": "markdown",
      "source": [
        "4. What are instance variables and class variables?\n",
        "\n",
        "instance variables: Unique to each object.\n",
        "\n",
        "class variables: Shared among all objects."
      ],
      "metadata": {
        "id": "sg0Jit0iZmjw"
      }
    },
    {
      "cell_type": "code",
      "source": [
        "# eg\n",
        "class Country:\n",
        "  country=\"India\"   #class variable\n",
        "\n",
        "  def state(self,name):\n",
        "    self.name=name   #instance variable\n",
        "  # def display(self):\n",
        "    print(f\"{self.name} is one of the states in {Country.country}\")\n",
        "obj=Country()\n",
        "obj.state(\"Kerala\")\n",
        "# obj.display()"
      ],
      "metadata": {
        "colab": {
          "base_uri": "https://localhost:8080/"
        },
        "id": "vQeBMMlyZmQO",
        "outputId": "6e5dd33b-27d1-4262-9723-775aa114fe45"
      },
      "execution_count": 27,
      "outputs": [
        {
          "output_type": "stream",
          "name": "stdout",
          "text": [
            "Kerala is one of the states in India\n"
          ]
        }
      ]
    },
    {
      "cell_type": "markdown",
      "source": [
        "5. What is the purpose of the __init__ method?\n"
      ],
      "metadata": {
        "id": "ufQ836S_bkSa"
      }
    },
    {
      "cell_type": "code",
      "source": [
        "class Animal:\n",
        "  def __init__(self,name,color):   # initializes instance variable in an object\n",
        "    self.name=name\n",
        "    self.color=color\n",
        "\n",
        "  def display(self):\n",
        "    print(self.name,self.color)\n",
        "\n",
        "obj=Animal(\"dog\",\"brown\")\n",
        "obj.display()"
      ],
      "metadata": {
        "colab": {
          "base_uri": "https://localhost:8080/"
        },
        "id": "YfK5zy-TboU8",
        "outputId": "e3b829fd-5c4d-4de3-8b55-2040bb197434"
      },
      "execution_count": 28,
      "outputs": [
        {
          "output_type": "stream",
          "name": "stdout",
          "text": [
            "dog brown\n"
          ]
        }
      ]
    },
    {
      "cell_type": "markdown",
      "source": [
        "6. What are self and cls?"
      ],
      "metadata": {
        "id": "74yXzQgucM60"
      }
    },
    {
      "cell_type": "code",
      "source": [
        "class Class:\n",
        "  def method1(self):   #an instance method\n",
        "    print(\"Hello\")\n",
        "\n",
        "  def method2(cls):   #class mathod\n",
        "    print(\"Hi\")\n",
        "\n",
        "obj=Class()\n",
        "obj.method1()\n",
        "obj.method2()"
      ],
      "metadata": {
        "colab": {
          "base_uri": "https://localhost:8080/"
        },
        "id": "m54bHsafcMkt",
        "outputId": "1af30601-a9b9-4fbd-fea6-896abfac4255"
      },
      "execution_count": 29,
      "outputs": [
        {
          "output_type": "stream",
          "name": "stdout",
          "text": [
            "Hello\n",
            "Hi\n"
          ]
        }
      ]
    },
    {
      "cell_type": "markdown",
      "source": [
        "7. What is inheritance?\n"
      ],
      "metadata": {
        "id": "j7AaawxidCio"
      }
    },
    {
      "cell_type": "code",
      "source": [
        "# eg\n",
        "\n",
        "class Animal:\n",
        "  def sound(self):\n",
        "    print(\"Animal sound\")\n",
        "\n",
        "class Dog(Animal):  #inherits from base class Animal\n",
        "  def bark(self):\n",
        "    print(\"Dog barks\")\n",
        "\n",
        "obj=Dog()\n",
        "obj.sound()\n",
        "obj.bark()"
      ],
      "metadata": {
        "colab": {
          "base_uri": "https://localhost:8080/"
        },
        "id": "F0Vzg1yqdCAS",
        "outputId": "82269a64-f693-4e4a-e520-f17141f83148"
      },
      "execution_count": 30,
      "outputs": [
        {
          "output_type": "stream",
          "name": "stdout",
          "text": [
            "Animal sound\n",
            "Dog barks\n"
          ]
        }
      ]
    },
    {
      "cell_type": "markdown",
      "source": [
        "8. Explain method overriding and method overloading.\n"
      ],
      "metadata": {
        "id": "R70irgAUdmvH"
      }
    },
    {
      "cell_type": "code",
      "source": [
        "#mathod over-riding\n",
        "class Animal:\n",
        "  def sound(self):\n",
        "    print(\"Animal sound\")\n",
        "\n",
        "class Dog(Animal):\n",
        "  def sound(self):\n",
        "    print(\"Dog barks\")\n",
        "\n",
        "obj=Dog()\n",
        "obj.sound()    #output Dog barks as it over-rides sound in Animal"
      ],
      "metadata": {
        "colab": {
          "base_uri": "https://localhost:8080/"
        },
        "id": "oE8Ro4Evdt8M",
        "outputId": "28faff99-1505-4f90-8200-2786d829d9a2"
      },
      "execution_count": 31,
      "outputs": [
        {
          "output_type": "stream",
          "name": "stdout",
          "text": [
            "Dog barks\n"
          ]
        }
      ]
    },
    {
      "cell_type": "code",
      "source": [
        "#method over loading\n",
        "\n",
        "class Add:\n",
        "  def add(self,a=None,b=None,c=None):\n",
        "    if a!=None and b!=None and c!=None:\n",
        "      print(a+b+c)\n",
        "    elif a!=None and b!=None:\n",
        "      print(a+b)\n",
        "    else:\n",
        "      print(a)\n",
        "\n",
        "obj=Add()\n",
        "obj.add(10,20,30)\n",
        "obj.add(10,20)\n",
        "obj.add(10)"
      ],
      "metadata": {
        "colab": {
          "base_uri": "https://localhost:8080/"
        },
        "id": "emiZ77C3fkB0",
        "outputId": "f7332f1b-c7bf-4ce5-9b33-bb09e20c7c87"
      },
      "execution_count": 37,
      "outputs": [
        {
          "output_type": "stream",
          "name": "stdout",
          "text": [
            "60\n",
            "30\n",
            "10\n"
          ]
        }
      ]
    },
    {
      "cell_type": "markdown",
      "source": [
        "9. What is multiple inheritance? How does Python handle it?\n"
      ],
      "metadata": {
        "id": "QgOrczG-flc9"
      }
    },
    {
      "cell_type": "code",
      "source": [
        "#eg\n",
        "\n",
        "class A:     #base class\n",
        "  def method1(self):\n",
        "    print(\"A\")\n",
        "\n",
        "class B:    #base class\n",
        "  def method2(self):\n",
        "    print(\"B\")\n",
        "\n",
        "class C(A,B):   #inherits from multiple classes A and B\n",
        "  def method3(self):\n",
        "    print(\"C\")\n",
        "\n",
        "obj=C()\n",
        "obj.method1()\n",
        "obj.method2()\n",
        "obj.method3()"
      ],
      "metadata": {
        "colab": {
          "base_uri": "https://localhost:8080/"
        },
        "id": "SL70w7F_foXZ",
        "outputId": "87f61512-3087-49ef-d496-420299b263e8"
      },
      "execution_count": 38,
      "outputs": [
        {
          "output_type": "stream",
          "name": "stdout",
          "text": [
            "A\n",
            "B\n",
            "C\n"
          ]
        }
      ]
    },
    {
      "cell_type": "markdown",
      "source": [
        "11. What is polymorphism in Python?\n"
      ],
      "metadata": {
        "id": "6Uu9AHZCf_GZ"
      }
    },
    {
      "cell_type": "code",
      "source": [
        "#eg\n",
        "\n",
        "class Cat:\n",
        "    def speak(self):\n",
        "        return \"Meow\"\n",
        "\n",
        "class Dog:\n",
        "    def speak(self):\n",
        "        return \"Woof\"\n",
        "\n",
        "def animal_sound(animal):   #shows polymorphism\n",
        "    print(animal.speak())\n",
        "\n",
        "animal_sound(Cat())  # Output: Meow\n",
        "animal_sound(Dog())  # Output: Woof\n"
      ],
      "metadata": {
        "colab": {
          "base_uri": "https://localhost:8080/"
        },
        "id": "vfHdpGpFf-0M",
        "outputId": "78b6d455-744e-4d7c-c1b3-c20cf897b05a"
      },
      "execution_count": 39,
      "outputs": [
        {
          "output_type": "stream",
          "name": "stdout",
          "text": [
            "Meow\n",
            "Woof\n"
          ]
        }
      ]
    },
    {
      "cell_type": "markdown",
      "source": [
        "12. What is encapsulation in OOP?"
      ],
      "metadata": {
        "id": "uB4l0lb8ggch"
      }
    },
    {
      "cell_type": "code",
      "source": [
        "#eg\n",
        "\n",
        "class Animal:\n",
        "  def __init__(self, name, color):\n",
        "    self.name = name\n",
        "    self.__color = color   #encapsulated using private attribute\n",
        "\n",
        "  def get_color(self):      #accessing private atribute by using get\n",
        "    return self.__color\n",
        "\n",
        "animal = Animal(\"Dog\", \"Brown\")\n",
        "print(animal.name)  # Output: Dog\n",
        "print(animal.get_color())  # Output: Brown"
      ],
      "metadata": {
        "colab": {
          "base_uri": "https://localhost:8080/"
        },
        "id": "sE22LJlLg4cv",
        "outputId": "5d2da7db-ba6c-4168-8631-d22c6b41e749"
      },
      "execution_count": 41,
      "outputs": [
        {
          "output_type": "stream",
          "name": "stdout",
          "text": [
            "Dog\n",
            "Brown\n"
          ]
        }
      ]
    },
    {
      "cell_type": "markdown",
      "source": [
        "14. How do you implement operator overloading in Python?"
      ],
      "metadata": {
        "id": "KtSJg--thZtm"
      }
    },
    {
      "cell_type": "code",
      "source": [
        "#eg\n",
        "\n",
        "class Point:\n",
        "    def __init__(self, x, y):\n",
        "        self.x = x\n",
        "        self.y = y\n",
        "\n",
        "    def __add__(self, other):  # Overloading +\n",
        "        return Point(self.x + other.x, self.y + other.y)\n",
        "\n",
        "p1 = Point(1, 2)\n",
        "p2 = Point(3, 4)\n",
        "p3 = p1 + p2  # Calls __add__\n",
        "print(p3.x, p3.y)\n"
      ],
      "metadata": {
        "colab": {
          "base_uri": "https://localhost:8080/"
        },
        "id": "nK7fDEG_hMnb",
        "outputId": "169e4b12-51b1-4ccd-a7a1-266eabb26232"
      },
      "execution_count": 42,
      "outputs": [
        {
          "output_type": "stream",
          "name": "stdout",
          "text": [
            "4 6\n"
          ]
        }
      ]
    },
    {
      "cell_type": "markdown",
      "source": [
        "15. What is a static method and a class method in Python?\n",
        "\n",
        "Instance methods deal with objects.\n",
        "\n",
        "Static methods are independent of both objects and the class.\n",
        "\n",
        "Class methods deal with the class as a whole."
      ],
      "metadata": {
        "id": "4rikPXoyhuzP"
      }
    },
    {
      "cell_type": "code",
      "source": [
        "#eg\n",
        "\n",
        "class MyClass:\n",
        "    def instance_method(self):  # Uses self\n",
        "        return \"This is an instance method\"\n",
        "\n",
        "obj = MyClass()\n",
        "print(obj.instance_method())\n",
        "\n",
        "class MyClass:\n",
        "    @staticmethod\n",
        "    def static_method():  # No self or cls\n",
        "        return \"This is a static method\"\n",
        "\n",
        "print(MyClass.static_method())\n",
        "\n",
        "class MyClass:\n",
        "    @classmethod\n",
        "    def class_method(cls):  # Uses cls\n",
        "        return \"This is a class method\"\n",
        "\n",
        "print(MyClass.class_method())\n",
        "\n"
      ],
      "metadata": {
        "colab": {
          "base_uri": "https://localhost:8080/"
        },
        "id": "vqMIDPCYhuXG",
        "outputId": "87a2257d-a676-42b3-f91d-d1c4acdb914c"
      },
      "execution_count": 48,
      "outputs": [
        {
          "output_type": "stream",
          "name": "stdout",
          "text": [
            "This is an instance method\n",
            "This is a static method\n",
            "This is a class method\n"
          ]
        }
      ]
    }
  ]
}