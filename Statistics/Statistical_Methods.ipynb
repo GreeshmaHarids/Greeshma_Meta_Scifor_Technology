{
  "nbformat": 4,
  "nbformat_minor": 0,
  "metadata": {
    "colab": {
      "provenance": [],
      "authorship_tag": "ABX9TyMMMGLUeY5A7Idxdmf3miWL",
      "include_colab_link": true
    },
    "kernelspec": {
      "name": "python3",
      "display_name": "Python 3"
    },
    "language_info": {
      "name": "python"
    }
  },
  "cells": [
    {
      "cell_type": "markdown",
      "metadata": {
        "id": "view-in-github",
        "colab_type": "text"
      },
      "source": [
        "<a href=\"https://colab.research.google.com/github/GreeshmaHarids/Greeshma_Meta_Scifor_Technology/blob/main/Machine_Learning/Data_Analysis/Statistical_Methods.ipynb\" target=\"_parent\"><img src=\"https://colab.research.google.com/assets/colab-badge.svg\" alt=\"Open In Colab\"/></a>"
      ]
    },
    {
      "cell_type": "markdown",
      "source": [
        "# Statistical Methods for Data Analysis\n",
        "To analyze data effectively, we use two primary statistical methods:\n",
        "\n",
        "Descriptive Statistics and Inferential Statistics. These methods help summarize, visualize, and draw meaningful insights from data.\n",
        "\n",
        "## 1. Descriptive Statistics\n",
        "Descriptive statistics focus on organizing, summarizing, and visualizing data to identify patterns, trends, and characteristics within a dataset without making broader inferences.\n",
        "\n",
        "###Key Aspects of Descriptive Statistics:\n",
        "\n",
        "1.  Measures of Central Tendency: Provides insights into the center of the data\n",
        "distribution.\n",
        "\n",
        "  **Mean:** The average value of a dataset.\n",
        "\n",
        "  **Median:** The middle value when data is sorted.\n",
        "\n",
        "  **Mode:** The most frequently occurring value.\n",
        "\n",
        "2.  Measures of Dispersion: Explains the spread or variability of data.\n",
        "\n",
        "  **Range:** The difference between the maximum and minimum values.\n",
        "\n",
        "  **Variance:** The average of squared differences from the mean.\n",
        "\n",
        "  **Standard Deviation:** The square root of the variance, measuring data spread.\n",
        "\n",
        "  **IQR (Interquartile Range):** The range between the 25th and 75th percentiles.\n",
        "\n",
        "3. Visualizations:\n",
        "\n",
        "  **Graphs**: Line plots and scatter plots.\n",
        "\n",
        "  **Histograms**: To show frequency distribution.\n",
        "\n",
        "  **Bar Charts and Pie Charts**: For categorical data representation.\n",
        "\n",
        "### Types of Descriptive Statistics:\n",
        "\n",
        "  ***Central Tendency:*** Mean, Median, Mode.\n",
        "\n",
        "  ***Dispersion:*** Variance, Standard Deviation, IQR.\n",
        "\n",
        "  ***Shape of Data:***  Skewness (asymmetry) and Kurtosis (peakedness)."
      ],
      "metadata": {
        "id": "BIXMv5jfT-Lo"
      }
    },
    {
      "cell_type": "code",
      "execution_count": null,
      "metadata": {
        "colab": {
          "base_uri": "https://localhost:8080/"
        },
        "id": "cadHZ9TYT1KB",
        "outputId": "f779c8d0-a2fe-423d-9fad-038ee2982125"
      },
      "outputs": [
        {
          "output_type": "stream",
          "name": "stdout",
          "text": [
            "Descriptive Statistics\n",
            "\n",
            "Mean: 17.2, Median: 17.0, Mode: 18, Std Dev: 4.6, Variance: 21.16 \n",
            "\n"
          ]
        }
      ],
      "source": [
        "#Sample Python Code for Descriptive Statistics:\n",
        "\n",
        "import numpy as np\n",
        "import pandas as pd\n",
        "import matplotlib.pyplot as plt\n",
        "\n",
        "# Sample dataset\n",
        "data = [12, 15, 14, 10, 18, 20, 25, 24, 16, 18]\n",
        "\n",
        "# Central Tendency\n",
        "mean = np.mean(data)\n",
        "median = np.median(data)\n",
        "mode = pd.Series(data).mode()[0]\n",
        "\n",
        "# Dispersion\n",
        "std_dev = np.std(data)\n",
        "variance = np.var(data)\n",
        "\n",
        "print(\"Descriptive Statistics\\n\")\n",
        "print(f\"Mean: {mean}, Median: {median}, Mode: {mode}, Std Dev: {std_dev}, Variance: {variance} \\n\")\n",
        "\n"
      ]
    },
    {
      "cell_type": "markdown",
      "source": [
        "##2. Inferential Statistics\n",
        "Inferential statistics help make predictions, generalizations, and hypotheses about a population based on a smaller sample. This is useful when analyzing entire populations is impractical.\n",
        "\n",
        "####Key Aspects of Inferential Statistics:\n",
        "\n",
        "  **Sampling Techniques:** Ensure representative samples for valid inferences.\n",
        "\n",
        "  **Hypothesis Testing:** Establish and test hypotheses using sample data.\n",
        "\n",
        "  **Confidence Intervals:** Estimate a range for population parameters.\n",
        "\n",
        "  **Regression Analysis:** Analyze relationships between variables."
      ],
      "metadata": {
        "id": "ioGDbWxsXRAe"
      }
    },
    {
      "cell_type": "code",
      "source": [
        "import scipy.stats as stats\n",
        "\n",
        "# Hypothesis Testing: One-sample t-test\n",
        "data_sample = [18, 20, 22, 21, 19, 24, 23]\n",
        "population_mean = 20\n",
        "\n",
        "t_stat, p_value = stats.ttest_1samp(data_sample, population_mean)\n",
        "print(f\"T-statistic: {t_stat}, P-value: {p_value}\")\n",
        "\n",
        "if p_value < 0.05:\n",
        "    print(\"Reject the null hypothesis.\")\n",
        "else:\n",
        "    print(\"Fail to reject the null hypothesis.\")\n"
      ],
      "metadata": {
        "colab": {
          "base_uri": "https://localhost:8080/"
        },
        "id": "wRmRIvf3X9-c",
        "outputId": "80041cda-97e5-4343-b7fe-efa06b1e0174"
      },
      "execution_count": null,
      "outputs": [
        {
          "output_type": "stream",
          "name": "stdout",
          "text": [
            "T-statistic: 1.224744871391589, P-value: 0.266569703380069\n",
            "Fail to reject the null hypothesis.\n"
          ]
        }
      ]
    },
    {
      "cell_type": "markdown",
      "source": [
        "Population Inference: Model performance metrics help infer the overall population's characteristics.\n",
        "\n",
        "Example: Regression analysis using mean absolute error (MAE).\n",
        "\n",
        "Hypothesis Testing: Validate assumptions about the population based on sample data.\n",
        "\n",
        "Cross-Validation: Evaluate model performance on unseen data."
      ],
      "metadata": {
        "id": "Aqv0p56WZ6yf"
      }
    },
    {
      "cell_type": "markdown",
      "source": [
        "##3. Probability\n",
        "Probability measures the likelihood of an event occurring. It ranges from 0 (impossible) to 1 (certain).\n",
        "\n",
        "####Types of Probability:\n",
        "Classical Probability: Based on equally likely outcomes.\n",
        "\n",
        "Empirical Probability: Based on observations or experiments.\n",
        "\n",
        "Subjective Probability: Based on personal judgment."
      ],
      "metadata": {
        "id": "VKdkTVwBYZTf"
      }
    },
    {
      "cell_type": "code",
      "source": [
        "import random\n",
        "\n",
        "# Simulating a coin toss\n",
        "outcomes = ['Heads', 'Tails']\n",
        "result = random.choice(outcomes)\n",
        "print(f\"Coin toss result: {result}\")\n",
        "\n",
        "# Probability of getting Heads\n",
        "num_heads = 0\n",
        "num_trials = 1000\n",
        "\n",
        "for _ in range(num_trials):\n",
        "    if random.choice(outcomes) == 'Heads':\n",
        "        num_heads += 1\n",
        "\n",
        "probability_heads = num_heads / num_trials\n",
        "print(f\"Probability of Heads: {probability_heads}\")\n"
      ],
      "metadata": {
        "colab": {
          "base_uri": "https://localhost:8080/"
        },
        "id": "Jk9jdhURYlAX",
        "outputId": "25dc3795-7502-4015-b9c6-45c3023f0ef6"
      },
      "execution_count": null,
      "outputs": [
        {
          "output_type": "stream",
          "name": "stdout",
          "text": [
            "Coin toss result: Heads\n",
            "Probability of Heads: 0.522\n"
          ]
        }
      ]
    },
    {
      "cell_type": "markdown",
      "source": [
        "### Types of Probability Distributions\n",
        "Bernoulli Distribution: Binary outcomes (0 or 1).\n",
        "\n",
        "Multinomial Distribution: Multiple categories.\n",
        "\n",
        "Gaussian Distribution (Normal): Continuous data; bell-shaped curve."
      ],
      "metadata": {
        "id": "AhqqEHdcaOk_"
      }
    },
    {
      "cell_type": "code",
      "source": [
        "from scipy.stats import bernoulli, norm\n",
        "\n",
        "# Bernoulli Distribution\n",
        "p = 0.6  # Probability of success\n",
        "outcome = bernoulli.rvs(p, size=10)  # Generate 10 outcomes\n",
        "print(\"Bernoulli Outcomes:\", outcome)\n",
        "\n",
        "# Gaussian Distribution\n",
        "data = norm.rvs(size=1000)  # Generate random normal data\n",
        "mean, std_dev = norm.fit(data)\n",
        "print(f\"Mean: {mean}, Std Dev: {std_dev}\")\n"
      ],
      "metadata": {
        "id": "BIKmB_4QaSTD",
        "outputId": "71553c0d-00d4-46db-9afa-672f24d0067a",
        "colab": {
          "base_uri": "https://localhost:8080/"
        }
      },
      "execution_count": null,
      "outputs": [
        {
          "output_type": "stream",
          "name": "stdout",
          "text": [
            "Bernoulli Outcomes: [1 1 0 1 1 1 1 1 0 0]\n",
            "Mean: -0.012514955272505061, Std Dev: 0.9824531762484737\n"
          ]
        }
      ]
    },
    {
      "cell_type": "markdown",
      "source": [
        "####Super() in Python\n",
        "super() is used to call methods of the parent class in a derived class, avoiding redundancy and resolving multiple inheritance issues."
      ],
      "metadata": {
        "id": "se-6z-rOai06"
      }
    },
    {
      "cell_type": "code",
      "source": [
        "class Parent:\n",
        "    def __init__(self, name):\n",
        "        self.name = name\n",
        "\n",
        "    def display(self):\n",
        "        print(f\"Name: {self.name}\")\n",
        "\n",
        "class Child(Parent):\n",
        "    def __init__(self, name, age):\n",
        "        super().__init__(name)  # Call parent class constructor\n",
        "        self.age = age\n",
        "\n",
        "    def display(self):\n",
        "        super().display()  # Call parent class method\n",
        "        print(f\"Age: {self.age}\")\n",
        "\n",
        "obj = Child(\"Alice\", 25)\n",
        "obj.display()\n"
      ],
      "metadata": {
        "colab": {
          "base_uri": "https://localhost:8080/"
        },
        "id": "UCV5Kv3paoaZ",
        "outputId": "9f7b5aec-dc7c-4de8-c302-15f2e646de33"
      },
      "execution_count": null,
      "outputs": [
        {
          "output_type": "stream",
          "name": "stdout",
          "text": [
            "Name: Alice\n",
            "Age: 25\n"
          ]
        }
      ]
    },
    {
      "cell_type": "markdown",
      "source": [
        "### Probability Mass Function (PMF) vs. Probability Density Function (PDF)\n",
        "**PMF:** Used for discrete data.\n",
        "\n",
        "**PDF:** Used for continuous data; total area under the curve equals 1."
      ],
      "metadata": {
        "id": "vrqtkgz6arZE"
      }
    },
    {
      "cell_type": "markdown",
      "source": [
        "##4. Frequency Distribution\n",
        "Frequency distribution organizes data into categories or intervals to visualize its distribution.\n",
        "\n",
        "### Components:\n",
        "**Frequency:** The count of occurrences in each category.\n",
        "\n",
        "**Relative Frequency:** The proportion of occurrences."
      ],
      "metadata": {
        "id": "KHpDTzQOYpda"
      }
    },
    {
      "cell_type": "code",
      "source": [
        "from collections import Counter\n",
        "import matplotlib.pyplot as plt\n",
        "\n",
        "# Sample data\n",
        "data = [1, 2, 2, 3, 3, 3, 4, 4, 4, 4]\n",
        "\n",
        "# Frequency distribution\n",
        "freq_dist = Counter(data)\n",
        "\n",
        "# Visualization\n",
        "plt.bar(freq_dist.keys(), freq_dist.values(), color='green', alpha=0.7)\n",
        "plt.title(\"Frequency Distribution\")\n",
        "plt.xlabel(\"Data Values\")\n",
        "plt.ylabel(\"Frequency\")\n",
        "plt.show()\n",
        "\n",
        "print(\"Frequency Distribution:\", freq_dist)\n"
      ],
      "metadata": {
        "colab": {
          "base_uri": "https://localhost:8080/",
          "height": 489
        },
        "id": "LvzEQKtSYzb5",
        "outputId": "72e89803-3993-4a7d-f73d-377b9b377734"
      },
      "execution_count": null,
      "outputs": [
        {
          "output_type": "display_data",
          "data": {
            "text/plain": [
              "<Figure size 640x480 with 1 Axes>"
            ],
            "image/png": "[encoded data removed]"
          },
          "metadata": {}
        },
        {
          "output_type": "stream",
          "name": "stdout",
          "text": [
            "Frequency Distribution: Counter({4: 4, 3: 3, 2: 2, 1: 1})\n"
          ]
        }
      ]
    }
  ]
}
